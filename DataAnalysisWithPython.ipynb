{
  "nbformat": 4,
  "nbformat_minor": 0,
  "metadata": {
    "colab": {
      "provenance": []
    },
    "kernelspec": {
      "name": "python3",
      "display_name": "Python 3"
    },
    "language_info": {
      "name": "python"
    }
  },
  "cells": [
    {
      "cell_type": "code",
      "execution_count": null,
      "metadata": {
        "id": "jsynj3F4i_kL"
      },
      "outputs": [],
      "source": [
        "import openpyxl\n",
        "from datetime import datetime\n",
        "\n",
        "# File paths\n",
        "input_file_path = \"D:\\\\Testing projects\\\\_VOISTask\\\\TaskData.xlsx\"  # Change this to your file path\n",
        "output_file_path = \"D:\\\\Testing projects\\\\_VOISTask\\\\PythonUpdated.xlsx\"  # Path to save the updated file\n",
        "\n",
        "# Open the Excel file\n",
        "workbook = openpyxl.load_workbook(input_file_path)\n",
        "sheet = workbook.active  # Get the active sheet (assuming the data is in the first sheet)\n",
        "\n",
        "# Current date\n",
        "today = datetime.today()\n",
        "\n",
        "# Define the date format\n",
        "date_format = \"%B %d, %Y\"  # Format \"MMMM dd, yyyy\"\n",
        "\n",
        "# Loop through the rows in the sheet\n",
        "for row in sheet.iter_rows(min_row=2, max_row=sheet.max_row):  # Skip header row (start from row 2)\n",
        "    join_date_cell = row[2]  # Assuming the \"Join Date\" is in the 3rd column (C)\n",
        "\n",
        "    if join_date_cell.value:  # If there's a value in the \"Join Date\" cell\n",
        "        # Split the date string to remove the weekday\n",
        "        join_date_string = join_date_cell.value.split(\", \", 1)[1]  # Get the part after the weekday\n",
        "        join_date = datetime.strptime(join_date_string, date_format)  # Parse the date\n",
        "\n",
        "        # Calculate years in _VOIS\n",
        "        years_in_vois = (today - join_date).days // 365\n",
        "\n",
        "        # Write the result to the 4th column (D)\n",
        "        row[3].value = years_in_vois\n",
        "\n",
        "# Save the updated Excel file\n",
        "workbook.save(output_file_path)\n",
        "\n",
        "print(f\"Updated Excel file saved successfully in this path: {output_file_path}\")\n"
      ]
    }
  ]
}